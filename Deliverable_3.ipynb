{
 "cells": [
  {
   "cell_type": "markdown",
   "id": "bdc820a7",
   "metadata": {},
   "source": [
    "# Deliverable 3"
   ]
  },
  {
   "cell_type": "markdown",
   "id": "00e21e6f",
   "metadata": {},
   "source": [
    "#### Agent have strategies:"
   ]
  },
  {
   "cell_type": "code",
   "execution_count": 1,
   "id": "3795cd7a",
   "metadata": {},
   "outputs": [],
   "source": [
    "strategies=['Lizard', 'Rock', 'Paper', 'Scissors', 'Spock']"
   ]
  },
  {
   "cell_type": "markdown",
   "id": "c43574ba",
   "metadata": {},
   "source": [
    "#### The world has rules"
   ]
  },
  {
   "cell_type": "code",
   "execution_count": 2,
   "id": "20665466",
   "metadata": {},
   "outputs": [],
   "source": [
    "payoff={('Lizard', 'Rock'):(0,1),\n",
    "        ('Rock', 'Lizard'):(1,0),\n",
    "        ('Spock', 'Lizard'):(0,1),\n",
    "        ('Lizard', 'Spock'):(1,0),\n",
    "        ('Scissors', 'Spock'):(0,1),\n",
    "        ('Spock', 'Scissors'):(1,0),\n",
    "        ('Paper', 'Scissors'):(0,1),\n",
    "        ('Scissors', 'Paper'):(1,0),\n",
    "        ('Rock', 'Paper'):(0,1),\n",
    "        ('Paper', 'Rock'):(1,0),\n",
    "        ('Scissors', 'Rock'):(0,1),\n",
    "        ('Rock', 'Scissors'):(1,0),\n",
    "        ('Lizard', 'Scissors'):(0,1),\n",
    "        ('Scissors', 'Lizard'):(1,0),\n",
    "        ('Paper', 'Lizard'):(0,1),\n",
    "        ('Lizard', 'Paper'):(1,0),\n",
    "        ('Spock', 'Paper'):(0,1),\n",
    "        ('Paper', 'Spock'):(1,0),\n",
    "        ('Rock', 'Spock'):(0,1),\n",
    "        ('Spock', 'Rock'):(1,0),\n",
    "        ('Lizard', 'Lizard'):(0,0),\n",
    "        ('Rock', 'Rock'):(0,0),\n",
    "        ('Paper', 'Paper'):(0,0),\n",
    "        ('Scissors', 'Scissors'):(0,0),\n",
    "        ('Spock', 'Spock'):(0,0)}"
   ]
  },
  {
   "cell_type": "markdown",
   "id": "0425045f",
   "metadata": {},
   "source": [
    "#### Creating and setting up agents:"
   ]
  },
  {
   "cell_type": "code",
   "execution_count": 3,
   "id": "645b081d",
   "metadata": {},
   "outputs": [],
   "source": [
    "Players=[{'name':'John','score':0,'strategy':None},\n",
    "         {'name':'Mary','score':0,'strategy':None}]"
   ]
  },
  {
   "cell_type": "code",
   "execution_count": 4,
   "id": "b2514027",
   "metadata": {},
   "outputs": [
    {
     "data": {
      "text/plain": [
       "'Spock'"
      ]
     },
     "execution_count": 4,
     "metadata": {},
     "output_type": "execute_result"
    }
   ],
   "source": [
    "from random import choice\n",
    "\n",
    "#simples: choose randomly\n",
    "choice(strategies)"
   ]
  },
  {
   "cell_type": "markdown",
   "id": "cf66fb73",
   "metadata": {},
   "source": [
    "#### 1. agent makes a choice"
   ]
  },
  {
   "cell_type": "code",
   "execution_count": 5,
   "id": "cc783093",
   "metadata": {},
   "outputs": [],
   "source": [
    "Players[0]['strategy']=choice(strategies)\n",
    "Players[1]['strategy']=choice(strategies)"
   ]
  },
  {
   "cell_type": "code",
   "execution_count": 6,
   "id": "155f7eaf",
   "metadata": {},
   "outputs": [
    {
     "data": {
      "text/plain": [
       "[{'name': 'John', 'score': 0, 'strategy': 'Scissors'},\n",
       " {'name': 'Mary', 'score': 0, 'strategy': 'Scissors'}]"
      ]
     },
     "execution_count": 6,
     "metadata": {},
     "output_type": "execute_result"
    }
   ],
   "source": [
    "Players"
   ]
  },
  {
   "cell_type": "markdown",
   "id": "d3a7b8dd",
   "metadata": {},
   "source": [
    "#### 2. Current move"
   ]
  },
  {
   "cell_type": "code",
   "execution_count": 7,
   "id": "be911636",
   "metadata": {},
   "outputs": [
    {
     "data": {
      "text/plain": [
       "('Scissors', 'Scissors')"
      ]
     },
     "execution_count": 7,
     "metadata": {},
     "output_type": "execute_result"
    }
   ],
   "source": [
    "Players[0]['strategy'],Players[1]['strategy']\n"
   ]
  },
  {
   "cell_type": "code",
   "execution_count": 8,
   "id": "50d1f760",
   "metadata": {},
   "outputs": [
    {
     "data": {
      "text/plain": [
       "(0, 0)"
      ]
     },
     "execution_count": 8,
     "metadata": {},
     "output_type": "execute_result"
    }
   ],
   "source": [
    "# social result of individual decision\n",
    "result = payoff[Players[0]['strategy'],Players[1]['strategy']]\n",
    "result"
   ]
  },
  {
   "cell_type": "markdown",
   "id": "0808cde6",
   "metadata": {},
   "source": [
    "#### 3. agent benefits / suffers from decision made"
   ]
  },
  {
   "cell_type": "code",
   "execution_count": 9,
   "id": "32f7416d",
   "metadata": {},
   "outputs": [],
   "source": [
    "# update agents situation\n",
    "Players[0]['score']+=result[0]\n",
    "Players[1]['score']+=result[1]"
   ]
  },
  {
   "cell_type": "code",
   "execution_count": 10,
   "id": "b0a340c1",
   "metadata": {},
   "outputs": [
    {
     "data": {
      "text/plain": [
       "[{'name': 'John', 'score': 0, 'strategy': 'Scissors'},\n",
       " {'name': 'Mary', 'score': 0, 'strategy': 'Scissors'}]"
      ]
     },
     "execution_count": 10,
     "metadata": {},
     "output_type": "execute_result"
    }
   ],
   "source": [
    "# current agent situation\n",
    "Players"
   ]
  },
  {
   "cell_type": "markdown",
   "id": "1a4f40ac",
   "metadata": {},
   "source": [
    "#### Social outcome"
   ]
  },
  {
   "cell_type": "code",
   "execution_count": 11,
   "id": "ab484e75",
   "metadata": {},
   "outputs": [
    {
     "data": {
      "text/html": [
       "<div>\n",
       "<style scoped>\n",
       "    .dataframe tbody tr th:only-of-type {\n",
       "        vertical-align: middle;\n",
       "    }\n",
       "\n",
       "    .dataframe tbody tr th {\n",
       "        vertical-align: top;\n",
       "    }\n",
       "\n",
       "    .dataframe thead th {\n",
       "        text-align: right;\n",
       "    }\n",
       "</style>\n",
       "<table border=\"1\" class=\"dataframe\">\n",
       "  <thead>\n",
       "    <tr style=\"text-align: right;\">\n",
       "      <th></th>\n",
       "      <th>name</th>\n",
       "      <th>score</th>\n",
       "      <th>strategy</th>\n",
       "    </tr>\n",
       "  </thead>\n",
       "  <tbody>\n",
       "    <tr>\n",
       "      <th>0</th>\n",
       "      <td>John</td>\n",
       "      <td>0</td>\n",
       "      <td>Scissors</td>\n",
       "    </tr>\n",
       "    <tr>\n",
       "      <th>1</th>\n",
       "      <td>Mary</td>\n",
       "      <td>0</td>\n",
       "      <td>Scissors</td>\n",
       "    </tr>\n",
       "  </tbody>\n",
       "</table>\n",
       "</div>"
      ],
      "text/plain": [
       "   name  score  strategy\n",
       "0  John      0  Scissors\n",
       "1  Mary      0  Scissors"
      ]
     },
     "execution_count": 11,
     "metadata": {},
     "output_type": "execute_result"
    }
   ],
   "source": [
    "import pandas as pd \n",
    "\n",
    "socialResults=pd.DataFrame((Players[0], Players[1]))\n",
    "socialResults"
   ]
  },
  {
   "cell_type": "code",
   "execution_count": 12,
   "id": "e84c1d6e",
   "metadata": {},
   "outputs": [
    {
     "data": {
      "text/html": [
       "<div>\n",
       "<style scoped>\n",
       "    .dataframe tbody tr th:only-of-type {\n",
       "        vertical-align: middle;\n",
       "    }\n",
       "\n",
       "    .dataframe tbody tr th {\n",
       "        vertical-align: top;\n",
       "    }\n",
       "\n",
       "    .dataframe thead th {\n",
       "        text-align: right;\n",
       "    }\n",
       "</style>\n",
       "<table border=\"1\" class=\"dataframe\">\n",
       "  <thead>\n",
       "    <tr style=\"text-align: right;\">\n",
       "      <th></th>\n",
       "      <th>name</th>\n",
       "      <th>score</th>\n",
       "      <th>strategy</th>\n",
       "    </tr>\n",
       "  </thead>\n",
       "  <tbody>\n",
       "    <tr>\n",
       "      <th>0</th>\n",
       "      <td>John</td>\n",
       "      <td>0</td>\n",
       "      <td>Scissors</td>\n",
       "    </tr>\n",
       "    <tr>\n",
       "      <th>1</th>\n",
       "      <td>Mary</td>\n",
       "      <td>0</td>\n",
       "      <td>Scissors</td>\n",
       "    </tr>\n",
       "  </tbody>\n",
       "</table>\n",
       "</div>"
      ],
      "text/plain": [
       "   name  score  strategy\n",
       "0  John      0  Scissors\n",
       "1  Mary      0  Scissors"
      ]
     },
     "execution_count": 12,
     "metadata": {},
     "output_type": "execute_result"
    }
   ],
   "source": [
    "winnerScore=socialResults.score.max()\n",
    "\n",
    "#social outcome\n",
    "socialResults[socialResults.score==winnerScore]"
   ]
  },
  {
   "cell_type": "markdown",
   "id": "76343b4f",
   "metadata": {},
   "source": [
    "#### More players"
   ]
  },
  {
   "cell_type": "code",
   "execution_count": 13,
   "id": "bde74540",
   "metadata": {},
   "outputs": [],
   "source": [
    "# names of players\n",
    "names=['Jim','Jane','Peter','Zoe']"
   ]
  },
  {
   "cell_type": "code",
   "execution_count": 14,
   "id": "e8affcc6",
   "metadata": {},
   "outputs": [],
   "source": [
    "# setting up players\n",
    "society=[{'name':n,'score':0,'strategy':None} for n in names]"
   ]
  },
  {
   "cell_type": "code",
   "execution_count": 15,
   "id": "52a9fcdc",
   "metadata": {},
   "outputs": [
    {
     "data": {
      "text/plain": [
       "[{'name': 'Jim', 'score': 0, 'strategy': None},\n",
       " {'name': 'Jane', 'score': 0, 'strategy': None},\n",
       " {'name': 'Peter', 'score': 0, 'strategy': None},\n",
       " {'name': 'Zoe', 'score': 0, 'strategy': None}]"
      ]
     },
     "execution_count": 15,
     "metadata": {},
     "output_type": "execute_result"
    }
   ],
   "source": [
    "# each player a dict:\n",
    "society"
   ]
  },
  {
   "cell_type": "code",
   "execution_count": 16,
   "id": "118eaba8",
   "metadata": {},
   "outputs": [
    {
     "name": "stdout",
     "output_type": "stream",
     "text": [
      "({'name': 'Jim', 'score': 0, 'strategy': None}, {'name': 'Jane', 'score': 0, 'strategy': None})\n",
      "({'name': 'Jim', 'score': 0, 'strategy': None}, {'name': 'Peter', 'score': 0, 'strategy': None})\n",
      "({'name': 'Jim', 'score': 0, 'strategy': None}, {'name': 'Zoe', 'score': 0, 'strategy': None})\n",
      "({'name': 'Jane', 'score': 0, 'strategy': None}, {'name': 'Peter', 'score': 0, 'strategy': None})\n",
      "({'name': 'Jane', 'score': 0, 'strategy': None}, {'name': 'Zoe', 'score': 0, 'strategy': None})\n",
      "({'name': 'Peter', 'score': 0, 'strategy': None}, {'name': 'Zoe', 'score': 0, 'strategy': None})\n"
     ]
    }
   ],
   "source": [
    "import itertools \n",
    "\n",
    "# pair is a tuple of dicts\n",
    "for pair in itertools.combinations(society,2):\n",
    "    print(pair)"
   ]
  },
  {
   "cell_type": "code",
   "execution_count": 17,
   "id": "24ff7973",
   "metadata": {},
   "outputs": [
    {
     "name": "stdout",
     "output_type": "stream",
     "text": [
      "{'name': 'Jim', 'score': 0, 'strategy': None} {'name': 'Jane', 'score': 0, 'strategy': None}\n",
      "{'name': 'Jim', 'score': 0, 'strategy': None} {'name': 'Peter', 'score': 0, 'strategy': None}\n",
      "{'name': 'Jim', 'score': 0, 'strategy': None} {'name': 'Zoe', 'score': 0, 'strategy': None}\n",
      "{'name': 'Jane', 'score': 0, 'strategy': None} {'name': 'Peter', 'score': 0, 'strategy': None}\n",
      "{'name': 'Jane', 'score': 0, 'strategy': None} {'name': 'Zoe', 'score': 0, 'strategy': None}\n",
      "{'name': 'Peter', 'score': 0, 'strategy': None} {'name': 'Zoe', 'score': 0, 'strategy': None}\n"
     ]
    }
   ],
   "source": [
    "import itertools \n",
    "\n",
    "# each dict\n",
    "for player1,player2 in itertools.combinations(society,2):\n",
    "    print(player1,player2)"
   ]
  },
  {
   "cell_type": "code",
   "execution_count": 18,
   "id": "004819a0",
   "metadata": {},
   "outputs": [],
   "source": [
    "# resetting society\n",
    "society=[{'name':n,'score':0,'strategy':None} for n in names]\n",
    "\n",
    "# several rounds\n",
    "for aRound in range(100):\n",
    "    \n",
    "    # en each round:\n",
    "    for player1,player2 in itertools.combinations(society,2):\n",
    "        # each chooses strategy\n",
    "        player1['strategy']=choice(strategies)\n",
    "        player2['strategy']=choice(strategies)\n",
    "        # result from strategy chosen\n",
    "        result=payoff[player1['strategy'],player2['strategy']]\n",
    "        # update scores\n",
    "        player1['score']+=result[0]\n",
    "        player2['score']+=result[1]\n"
   ]
  },
  {
   "cell_type": "code",
   "execution_count": 19,
   "id": "fd96b5d2",
   "metadata": {},
   "outputs": [
    {
     "data": {
      "text/plain": [
       "[{'name': 'Jim', 'score': 101, 'strategy': 'Lizard'},\n",
       " {'name': 'Jane', 'score': 135, 'strategy': 'Paper'},\n",
       " {'name': 'Peter', 'score': 115, 'strategy': 'Lizard'},\n",
       " {'name': 'Zoe', 'score': 132, 'strategy': 'Rock'}]"
      ]
     },
     "execution_count": 19,
     "metadata": {},
     "output_type": "execute_result"
    }
   ],
   "source": [
    "# final situation\n",
    "society"
   ]
  },
  {
   "cell_type": "code",
   "execution_count": 20,
   "id": "a306a144",
   "metadata": {},
   "outputs": [
    {
     "data": {
      "text/html": [
       "<div>\n",
       "<style scoped>\n",
       "    .dataframe tbody tr th:only-of-type {\n",
       "        vertical-align: middle;\n",
       "    }\n",
       "\n",
       "    .dataframe tbody tr th {\n",
       "        vertical-align: top;\n",
       "    }\n",
       "\n",
       "    .dataframe thead th {\n",
       "        text-align: right;\n",
       "    }\n",
       "</style>\n",
       "<table border=\"1\" class=\"dataframe\">\n",
       "  <thead>\n",
       "    <tr style=\"text-align: right;\">\n",
       "      <th></th>\n",
       "      <th>name</th>\n",
       "      <th>score</th>\n",
       "      <th>strategy</th>\n",
       "    </tr>\n",
       "  </thead>\n",
       "  <tbody>\n",
       "    <tr>\n",
       "      <th>0</th>\n",
       "      <td>Jim</td>\n",
       "      <td>101</td>\n",
       "      <td>Lizard</td>\n",
       "    </tr>\n",
       "    <tr>\n",
       "      <th>1</th>\n",
       "      <td>Jane</td>\n",
       "      <td>135</td>\n",
       "      <td>Paper</td>\n",
       "    </tr>\n",
       "    <tr>\n",
       "      <th>2</th>\n",
       "      <td>Peter</td>\n",
       "      <td>115</td>\n",
       "      <td>Lizard</td>\n",
       "    </tr>\n",
       "    <tr>\n",
       "      <th>3</th>\n",
       "      <td>Zoe</td>\n",
       "      <td>132</td>\n",
       "      <td>Rock</td>\n",
       "    </tr>\n",
       "  </tbody>\n",
       "</table>\n",
       "</div>"
      ],
      "text/plain": [
       "    name  score strategy\n",
       "0    Jim    101   Lizard\n",
       "1   Jane    135    Paper\n",
       "2  Peter    115   Lizard\n",
       "3    Zoe    132     Rock"
      ]
     },
     "execution_count": 20,
     "metadata": {},
     "output_type": "execute_result"
    }
   ],
   "source": [
    "# as a data frame\n",
    "socialResults=pd.DataFrame(society)\n",
    "socialResults"
   ]
  },
  {
   "cell_type": "code",
   "execution_count": 21,
   "id": "59d36a80",
   "metadata": {},
   "outputs": [
    {
     "data": {
      "text/html": [
       "<div>\n",
       "<style scoped>\n",
       "    .dataframe tbody tr th:only-of-type {\n",
       "        vertical-align: middle;\n",
       "    }\n",
       "\n",
       "    .dataframe tbody tr th {\n",
       "        vertical-align: top;\n",
       "    }\n",
       "\n",
       "    .dataframe thead th {\n",
       "        text-align: right;\n",
       "    }\n",
       "</style>\n",
       "<table border=\"1\" class=\"dataframe\">\n",
       "  <thead>\n",
       "    <tr style=\"text-align: right;\">\n",
       "      <th></th>\n",
       "      <th>name</th>\n",
       "      <th>score</th>\n",
       "      <th>strategy</th>\n",
       "    </tr>\n",
       "  </thead>\n",
       "  <tbody>\n",
       "    <tr>\n",
       "      <th>1</th>\n",
       "      <td>Jane</td>\n",
       "      <td>135</td>\n",
       "      <td>Paper</td>\n",
       "    </tr>\n",
       "  </tbody>\n",
       "</table>\n",
       "</div>"
      ],
      "text/plain": [
       "   name  score strategy\n",
       "1  Jane    135    Paper"
      ]
     },
     "execution_count": 21,
     "metadata": {},
     "output_type": "execute_result"
    }
   ],
   "source": [
    "winnerScore=socialResults.score.max()\n",
    "\n",
    "#social outcome\n",
    "socialResults[socialResults.score==winnerScore]"
   ]
  },
  {
   "cell_type": "code",
   "execution_count": null,
   "id": "f99f5e4c",
   "metadata": {},
   "outputs": [],
   "source": []
  }
 ],
 "metadata": {
  "kernelspec": {
   "display_name": "Python 3 (ipykernel)",
   "language": "python",
   "name": "python3"
  },
  "language_info": {
   "codemirror_mode": {
    "name": "ipython",
    "version": 3
   },
   "file_extension": ".py",
   "mimetype": "text/x-python",
   "name": "python",
   "nbconvert_exporter": "python",
   "pygments_lexer": "ipython3",
   "version": "3.9.15"
  }
 },
 "nbformat": 4,
 "nbformat_minor": 5
}
